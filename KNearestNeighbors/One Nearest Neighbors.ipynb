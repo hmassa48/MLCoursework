{
 "cells": [
  {
   "cell_type": "code",
   "execution_count": 1,
   "metadata": {},
   "outputs": [],
   "source": [
    "import numpy as np\n",
    "import pandas as pd\n",
    "import math\n"
   ]
  },
  {
   "cell_type": "code",
   "execution_count": 2,
   "metadata": {},
   "outputs": [],
   "source": [
    "def euclideanDistance(instance1, instance2, length):\n",
    "    distance = 0\n",
    "    for x in range(length):\n",
    "        distance += pow((instance1[x] - instance2[x]), 2)\n",
    "    return math.sqrt(distance)"
   ]
  },
  {
   "cell_type": "code",
   "execution_count": 3,
   "metadata": {},
   "outputs": [],
   "source": [
    "def findNearestNeighbor(trainingSet,testValue):\n",
    "    distances = []\n",
    "    length = len(testValue)\n",
    "    for x in range(len(trainingSet)):\n",
    "        distance = euclideanDistance(trainingSet[x],testValue,length)\n",
    "        distances.append((trainingSet[x],distance))\n",
    "    distances.sort(key=lambda distances: distances[1])\n",
    "    return distances[0][0]"
   ]
  },
  {
   "cell_type": "code",
   "execution_count": 4,
   "metadata": {},
   "outputs": [],
   "source": [
    "d2 = pd.read_csv(\"D2z.txt\", sep=' ', \n",
    "                  names=[\"x1\", \"x2\", \"Y\"])\n",
    "d2_df = pd.DataFrame(d2)\n",
    "d2 = np.array(d2).astype(float)\n"
   ]
  },
  {
   "cell_type": "code",
   "execution_count": 5,
   "metadata": {},
   "outputs": [],
   "source": [
    "point = [0,0]"
   ]
  },
  {
   "cell_type": "code",
   "execution_count": 6,
   "metadata": {},
   "outputs": [
    {
     "data": {
      "text/plain": [
       "array([-0.333338 , -0.0871707,  0.       ])"
      ]
     },
     "execution_count": 6,
     "metadata": {},
     "output_type": "execute_result"
    }
   ],
   "source": [
    "findNearestNeighbor(d2,point)"
   ]
  },
  {
   "cell_type": "code",
   "execution_count": 7,
   "metadata": {},
   "outputs": [],
   "source": [
    "def classify_NN(trainingSet,point):\n",
    "    NN = findNearestNeighbor(trainingSet,point)\n",
    "    return NN[2]"
   ]
  },
  {
   "cell_type": "code",
   "execution_count": 8,
   "metadata": {},
   "outputs": [
    {
     "data": {
      "text/plain": [
       "0.0"
      ]
     },
     "execution_count": 8,
     "metadata": {},
     "output_type": "execute_result"
    }
   ],
   "source": [
    "classify_NN(d2,point)"
   ]
  },
  {
   "cell_type": "code",
   "execution_count": 9,
   "metadata": {},
   "outputs": [],
   "source": [
    "x = np.linspace(-2,2,41)\n",
    "y = np.linspace(-2,2,41)"
   ]
  },
  {
   "cell_type": "code",
   "execution_count": 10,
   "metadata": {},
   "outputs": [],
   "source": [
    "testing_points = {}\n",
    "w = 0\n",
    "for i in range(len(x)):\n",
    "    for j in range(len(y)):\n",
    "        testing_points[w] = x[i],y[j]\n",
    "        w = w+1\n",
    "    "
   ]
  },
  {
   "cell_type": "code",
   "execution_count": 11,
   "metadata": {},
   "outputs": [
    {
     "data": {
      "text/plain": [
       "1681"
      ]
     },
     "execution_count": 11,
     "metadata": {},
     "output_type": "execute_result"
    }
   ],
   "source": [
    "len(testing_points)"
   ]
  },
  {
   "cell_type": "code",
   "execution_count": 12,
   "metadata": {},
   "outputs": [
    {
     "data": {
      "text/plain": [
       "<Figure size 640x480 with 1 Axes>"
      ]
     },
     "metadata": {},
     "output_type": "display_data"
    }
   ],
   "source": [
    "import matplotlib.pyplot as plt\n",
    "colors = ['red','green']\n",
    "\n",
    "plt.scatter(d2[0], d2[1], alpha=0.5)\n",
    "plt.title('Scatter plot pythonspot.com')\n",
    "plt.xlabel('x')\n",
    "plt.ylabel('y')\n",
    "plt.show()"
   ]
  },
  {
   "cell_type": "code",
   "execution_count": 13,
   "metadata": {},
   "outputs": [],
   "source": [
    "d_test = pd.DataFrame(testing_points)\n",
    "d_test = d_test.transpose()\n",
    "d_test_array = d_test.to_numpy()\n"
   ]
  },
  {
   "cell_type": "code",
   "execution_count": 14,
   "metadata": {},
   "outputs": [
    {
     "data": {
      "text/plain": [
       "array([ 0.4, -0.4])"
      ]
     },
     "execution_count": 14,
     "metadata": {},
     "output_type": "execute_result"
    }
   ],
   "source": [
    "d_test_array[1000]"
   ]
  },
  {
   "cell_type": "code",
   "execution_count": 15,
   "metadata": {},
   "outputs": [
    {
     "data": {
      "text/plain": [
       "1.0"
      ]
     },
     "execution_count": 15,
     "metadata": {},
     "output_type": "execute_result"
    }
   ],
   "source": [
    "classify_NN(d2,d_test_array[1000])"
   ]
  },
  {
   "cell_type": "code",
   "execution_count": 16,
   "metadata": {},
   "outputs": [],
   "source": [
    "Y = np.empty(len(d_test_array))\n",
    "for i in range(len(d_test_array)):\n",
    "    Y[i] = classify_NN(d2,d_test_array[i])"
   ]
  },
  {
   "cell_type": "code",
   "execution_count": 17,
   "metadata": {},
   "outputs": [],
   "source": [
    "d_test.columns = ['x1', 'x2']\n",
    "d_test['Y'] = Y\n"
   ]
  },
  {
   "cell_type": "code",
   "execution_count": 18,
   "metadata": {},
   "outputs": [
    {
     "data": {
      "text/plain": [
       "0.0"
      ]
     },
     "execution_count": 18,
     "metadata": {},
     "output_type": "execute_result"
    }
   ],
   "source": [
    "Y[1200]"
   ]
  },
  {
   "cell_type": "code",
   "execution_count": 19,
   "metadata": {},
   "outputs": [
    {
     "data": {
      "text/plain": [
       "array([1.6, 0.4])"
      ]
     },
     "execution_count": 19,
     "metadata": {},
     "output_type": "execute_result"
    }
   ],
   "source": [
    "d_test_array[1500]"
   ]
  },
  {
   "cell_type": "code",
   "execution_count": 20,
   "metadata": {},
   "outputs": [
    {
     "data": {
      "text/plain": [
       "0.0"
      ]
     },
     "execution_count": 20,
     "metadata": {},
     "output_type": "execute_result"
    }
   ],
   "source": [
    "point = [1,-1]\n",
    "classify_NN(d2,point)"
   ]
  },
  {
   "cell_type": "code",
   "execution_count": 21,
   "metadata": {},
   "outputs": [
    {
     "data": {
      "text/plain": [
       "<matplotlib.collections.PathCollection at 0x11cce6c50>"
      ]
     },
     "execution_count": 21,
     "metadata": {},
     "output_type": "execute_result"
    },
    {
     "data": {
      "image/png": "[encoded data removed]",
      "text/plain": [
       "<Figure size 432x288 with 1 Axes>"
      ]
     },
     "metadata": {
      "needs_background": "light"
     },
     "output_type": "display_data"
    }
   ],
   "source": [
    "plt.scatter(d_test.x1, d_test.x2\n",
    ", s=d_test.Y)"
   ]
  },
  {
   "cell_type": "code",
   "execution_count": 22,
   "metadata": {},
   "outputs": [
    {
     "data": {
      "text/plain": [
       "Text(0.5, 1.0, 'D2z plot')"
      ]
     },
     "execution_count": 22,
     "metadata": {},
     "output_type": "execute_result"
    },
    {
     "data": {
      "image/png": "[encoded data removed]",
      "text/plain": [
       "<Figure size 1440x720 with 1 Axes>"
      ]
     },
     "metadata": {
      "needs_background": "light"
     },
     "output_type": "display_data"
    }
   ],
   "source": [
    "import matplotlib\n",
    "colors = ['red','green']\n",
    "color2 = ['blue','purple']\n",
    "fig, ax = plt.subplots(figsize = (20,10))\n",
    "\n",
    "ax.scatter(d2_df.x1,d2_df.x2, c =d2_df.Y, cmap=matplotlib.colors.ListedColormap(colors), s=40, marker=\"s\")\n",
    "\n",
    "colors = ['blue','purple']\n",
    "ax.scatter(d_test.x1, d_test.x2, c =d_test.Y, cmap=matplotlib.colors.ListedColormap(colors), s=30, marker=\"s\")\n",
    "#ax1.scatter(d2_df.x1,d2_df.x2, c =d2_df.Y, cmap=matplotlib.colors.ListedColormap(colors), s=6, marker=\"s\")\n",
    "plt.xlabel('x1')\n",
    "plt.ylabel('x2')\n",
    "plt.title('D2z plot')"
   ]
  },
  {
   "cell_type": "code",
   "execution_count": 23,
   "metadata": {},
   "outputs": [
    {
     "data": {
      "text/plain": [
       "<matplotlib.collections.PathCollection at 0x11d557ba8>"
      ]
     },
     "execution_count": 23,
     "metadata": {},
     "output_type": "execute_result"
    },
    {
     "data": {
      "image/png": "[encoded data removed]",
      "text/plain": [
       "<Figure size 720x360 with 1 Axes>"
      ]
     },
     "metadata": {
      "needs_background": "light"
     },
     "output_type": "display_data"
    }
   ],
   "source": [
    "fig = plt.figure(figsize = ((10,5)))\n",
    "ax1 = fig.add_subplot(111)\n",
    "#ax1.scatter(d_test.x1, d_test.x2, c =d_test.Y, cmap=matplotlib.colors.ListedColormap(colors), s=10, marker=\"s\",label='first')\n",
    "ax1.scatter(d2_df.x1,d2_df.x2, c =d2_df.Y, cmap=matplotlib.colors.ListedColormap(colors), s=10, marker=\"s\", label='second')"
   ]
  },
  {
   "cell_type": "code",
   "execution_count": 24,
   "metadata": {},
   "outputs": [],
   "source": [
    "def classify_NN(trainingSet,point):\n",
    "    NN = findNearestNeighbor(trainingSet,point)\n",
    "    return NN[6]"
   ]
  },
  {
   "cell_type": "code",
   "execution_count": 25,
   "metadata": {},
   "outputs": [],
   "source": [
    "d2a = pd.read_csv(\"D2a.txt\", sep=' ', \n",
    "                  names=[\"x1\", \"x2\",\"x3\",\"x4\",\"x5\",\"x6\", \"Y\"])\n",
    "d2a_df = pd.DataFrame(d2a)\n",
    "d2a = np.array(d2a).astype(float)\n"
   ]
  },
  {
   "cell_type": "code",
   "execution_count": null,
   "metadata": {},
   "outputs": [],
   "source": []
  },
  {
   "cell_type": "code",
   "execution_count": 27,
   "metadata": {},
   "outputs": [],
   "source": [
    "d2a_df = d2a_df.sample(frac=1).reset_index(drop=True)"
   ]
  },
  {
   "cell_type": "code",
   "execution_count": 28,
   "metadata": {},
   "outputs": [
    {
     "data": {
      "text/plain": [
       "200"
      ]
     },
     "execution_count": 28,
     "metadata": {},
     "output_type": "execute_result"
    }
   ],
   "source": [
    "len(d2a_df)"
   ]
  },
  {
   "cell_type": "code",
   "execution_count": 29,
   "metadata": {},
   "outputs": [
    {
     "data": {
      "text/html": [
       "<div>\n",
       "<style scoped>\n",
       "    .dataframe tbody tr th:only-of-type {\n",
       "        vertical-align: middle;\n",
       "    }\n",
       "\n",
       "    .dataframe tbody tr th {\n",
       "        vertical-align: top;\n",
       "    }\n",
       "\n",
       "    .dataframe thead th {\n",
       "        text-align: right;\n",
       "    }\n",
       "</style>\n",
       "<table border=\"1\" class=\"dataframe\">\n",
       "  <thead>\n",
       "    <tr style=\"text-align: right;\">\n",
       "      <th></th>\n",
       "      <th>x1</th>\n",
       "      <th>x2</th>\n",
       "      <th>x3</th>\n",
       "      <th>x4</th>\n",
       "      <th>x5</th>\n",
       "      <th>x6</th>\n",
       "      <th>Y</th>\n",
       "    </tr>\n",
       "  </thead>\n",
       "  <tbody>\n",
       "    <tr>\n",
       "      <td>0</td>\n",
       "      <td>-0.003958</td>\n",
       "      <td>-0.004881</td>\n",
       "      <td>0.000485</td>\n",
       "      <td>0.005489</td>\n",
       "      <td>-1.33207</td>\n",
       "      <td>0.654376</td>\n",
       "      <td>1</td>\n",
       "    </tr>\n",
       "    <tr>\n",
       "      <td>1</td>\n",
       "      <td>-0.011108</td>\n",
       "      <td>-0.000661</td>\n",
       "      <td>0.002841</td>\n",
       "      <td>-0.015478</td>\n",
       "      <td>1.53659</td>\n",
       "      <td>-0.274568</td>\n",
       "      <td>0</td>\n",
       "    </tr>\n",
       "    <tr>\n",
       "      <td>2</td>\n",
       "      <td>-0.005158</td>\n",
       "      <td>-0.013915</td>\n",
       "      <td>0.009471</td>\n",
       "      <td>0.014226</td>\n",
       "      <td>-1.54674</td>\n",
       "      <td>0.324991</td>\n",
       "      <td>1</td>\n",
       "    </tr>\n",
       "    <tr>\n",
       "      <td>3</td>\n",
       "      <td>-0.013268</td>\n",
       "      <td>0.007299</td>\n",
       "      <td>0.020504</td>\n",
       "      <td>-0.002950</td>\n",
       "      <td>1.14187</td>\n",
       "      <td>-0.948488</td>\n",
       "      <td>0</td>\n",
       "    </tr>\n",
       "    <tr>\n",
       "      <td>4</td>\n",
       "      <td>0.004766</td>\n",
       "      <td>0.000815</td>\n",
       "      <td>-0.012642</td>\n",
       "      <td>0.008037</td>\n",
       "      <td>1.25179</td>\n",
       "      <td>-0.808908</td>\n",
       "      <td>0</td>\n",
       "    </tr>\n",
       "  </tbody>\n",
       "</table>\n",
       "</div>"
      ],
      "text/plain": [
       "         x1        x2        x3        x4       x5        x6  Y\n",
       "0 -0.003958 -0.004881  0.000485  0.005489 -1.33207  0.654376  1\n",
       "1 -0.011108 -0.000661  0.002841 -0.015478  1.53659 -0.274568  0\n",
       "2 -0.005158 -0.013915  0.009471  0.014226 -1.54674  0.324991  1\n",
       "3 -0.013268  0.007299  0.020504 -0.002950  1.14187 -0.948488  0\n",
       "4  0.004766  0.000815 -0.012642  0.008037  1.25179 -0.808908  0"
      ]
     },
     "execution_count": 29,
     "metadata": {},
     "output_type": "execute_result"
    }
   ],
   "source": [
    "d2a_df.head()"
   ]
  },
  {
   "cell_type": "code",
   "execution_count": 30,
   "metadata": {},
   "outputs": [
    {
     "data": {
      "text/plain": [
       "40.0"
      ]
     },
     "execution_count": 30,
     "metadata": {},
     "output_type": "execute_result"
    }
   ],
   "source": [
    "200/5"
   ]
  },
  {
   "cell_type": "code",
   "execution_count": 31,
   "metadata": {},
   "outputs": [],
   "source": [
    "def getAccuracy(testSet, predictions):\n",
    "    correct = 0\n",
    "    for x in range(len(testSet)):\n",
    "        if testSet['Y'][x] == predictions[x]:\n",
    "            correct += 1\n",
    "    return (correct/float(len(testSet))) * 100.0"
   ]
  },
  {
   "cell_type": "code",
   "execution_count": 32,
   "metadata": {},
   "outputs": [],
   "source": []
  },
  {
   "cell_type": "code",
   "execution_count": null,
   "metadata": {},
   "outputs": [],
   "source": []
  },
  {
   "cell_type": "code",
   "execution_count": 33,
   "metadata": {},
   "outputs": [],
   "source": [
    "data1 = np.append(cross1,cross2,axis=0)\n",
    "data1 = np.append(data1,cross3,axis=0)\n",
    "data1 = np.append(data1,cross4,axis = 0)"
   ]
  },
  {
   "cell_type": "code",
   "execution_count": 34,
   "metadata": {},
   "outputs": [],
   "source": [
    "data2 = np.append(cross1,cross2,axis = 0)\n",
    "data2 = np.append(data2, cross3, axis = 0)\n",
    "data2 = np.append(data2,cross5, axis = 0)\n"
   ]
  },
  {
   "cell_type": "code",
   "execution_count": 35,
   "metadata": {},
   "outputs": [],
   "source": [
    "data3 = np.append(cross1,cross2,axis = 0)\n",
    "data3 = np.append(data3,cross4, axis=0)\n",
    "data3 = np.append(data3,cross5,axis =0)"
   ]
  },
  {
   "cell_type": "code",
   "execution_count": 36,
   "metadata": {},
   "outputs": [],
   "source": [
    "data4 = np.append(cross1,cross3, axis=0)\n",
    "data4 = np.append(data4, cross4,axis =0)\n",
    "data4 = np.append(data4, cross5, axis=0)"
   ]
  },
  {
   "cell_type": "code",
   "execution_count": 37,
   "metadata": {},
   "outputs": [],
   "source": [
    "data5 = np.append(cross2,cross3,axis=0)\n",
    "data5 = np.append(data4, cross4, axis =0)\n",
    "data5 = np.append(data4,cross5,axis=0)"
   ]
  },
  {
   "cell_type": "code",
   "execution_count": 38,
   "metadata": {},
   "outputs": [
    {
     "data": {
      "text/plain": [
       "160"
      ]
     },
     "execution_count": 38,
     "metadata": {},
     "output_type": "execute_result"
    }
   ],
   "source": [
    "len(data1)"
   ]
  },
  {
   "cell_type": "code",
   "execution_count": 39,
   "metadata": {},
   "outputs": [
    {
     "data": {
      "text/plain": [
       "array([[-1.38534e-02,  3.39077e-03,  8.07265e-03, ..., -3.33338e-01,\n",
       "        -8.71707e-02,  0.00000e+00],\n",
       "       [-3.96786e-03,  6.84954e-03, -1.06136e-02, ..., -1.53173e+00,\n",
       "         3.58194e-01,  1.00000e+00],\n",
       "       [-8.78796e-04,  1.08649e-02,  9.09149e-03, ...,  1.54959e+00,\n",
       "        -3.64050e-01,  0.00000e+00],\n",
       "       ...,\n",
       "       [ 4.81665e-03,  2.12410e-03, -6.14276e-03, ..., -1.56382e+00,\n",
       "         2.30550e-01,  1.00000e+00],\n",
       "       [-1.32994e-02,  7.51179e-03,  1.53591e-02, ..., -4.30134e-01,\n",
       "         2.22631e-01,  0.00000e+00],\n",
       "       [-1.13934e-02, -7.24203e-03, -4.94238e-03, ..., -5.51300e-01,\n",
       "         8.86086e-01,  1.00000e+00]])"
      ]
     },
     "execution_count": 39,
     "metadata": {},
     "output_type": "execute_result"
    }
   ],
   "source": [
    "data1"
   ]
  },
  {
   "cell_type": "code",
   "execution_count": 40,
   "metadata": {},
   "outputs": [],
   "source": [
    "point = [0,.8,5,3,3,4]"
   ]
  },
  {
   "cell_type": "code",
   "execution_count": 41,
   "metadata": {},
   "outputs": [
    {
     "data": {
      "text/plain": [
       "0.0"
      ]
     },
     "execution_count": 41,
     "metadata": {},
     "output_type": "execute_result"
    }
   ],
   "source": [
    "classify_NN(data1,point)"
   ]
  },
  {
   "cell_type": "code",
   "execution_count": 42,
   "metadata": {},
   "outputs": [],
   "source": [
    "test1 = pd.DataFrame(cross5)\n",
    "test1.columns = [\"x1\", \"x2\",\"x3\",\"x4\",\"x5\",\"x6\", \"Y\"]\n"
   ]
  },
  {
   "cell_type": "code",
   "execution_count": 43,
   "metadata": {},
   "outputs": [],
   "source": [
    "test11 = test1.drop(columns = ['Y'])\n",
    "array_test1 = test11.to_numpy()\n",
    "Y = np.empty(len(array_test1))\n",
    "for i in range(len(array_test1)):\n",
    "    Y[i] = classify_NN(data1,array_test1[i])"
   ]
  },
  {
   "cell_type": "code",
   "execution_count": 44,
   "metadata": {},
   "outputs": [
    {
     "data": {
      "text/plain": [
       "100.0"
      ]
     },
     "execution_count": 44,
     "metadata": {},
     "output_type": "execute_result"
    }
   ],
   "source": [
    "getAccuracy(test1,Y)"
   ]
  },
  {
   "cell_type": "code",
   "execution_count": 45,
   "metadata": {},
   "outputs": [],
   "source": [
    "test2 = pd.DataFrame(cross4)\n",
    "test2.columns = [\"x1\", \"x2\",\"x3\",\"x4\",\"x5\",\"x6\", \"Y\"]\n",
    "test22 = test2.drop(columns = ['Y'])\n",
    "array_test2 = test22.to_numpy()\n",
    "Y = np.empty(len(array_test2))\n",
    "for i in range(len(array_test2)):\n",
    "    Y[i] = classify_NN(data2,array_test2[i])"
   ]
  },
  {
   "cell_type": "code",
   "execution_count": 46,
   "metadata": {},
   "outputs": [
    {
     "data": {
      "text/plain": [
       "100.0"
      ]
     },
     "execution_count": 46,
     "metadata": {},
     "output_type": "execute_result"
    }
   ],
   "source": [
    "getAccuracy(test2,Y)"
   ]
  },
  {
   "cell_type": "code",
   "execution_count": 47,
   "metadata": {},
   "outputs": [],
   "source": [
    "test3 = pd.DataFrame(cross3)\n",
    "test3.columns = [\"x1\", \"x2\",\"x3\",\"x4\",\"x5\",\"x6\", \"Y\"]\n",
    "test33 = test3.drop(columns = ['Y'])\n",
    "array_test3 = test33.to_numpy()\n",
    "Y = np.empty(len(array_test3))\n",
    "for i in range(len(array_test3)):\n",
    "    Y[i] = classify_NN(data3,array_test3[i])"
   ]
  },
  {
   "cell_type": "code",
   "execution_count": 48,
   "metadata": {},
   "outputs": [
    {
     "data": {
      "text/plain": [
       "100.0"
      ]
     },
     "execution_count": 48,
     "metadata": {},
     "output_type": "execute_result"
    }
   ],
   "source": [
    "getAccuracy(test3,Y)"
   ]
  },
  {
   "cell_type": "code",
   "execution_count": 49,
   "metadata": {},
   "outputs": [],
   "source": [
    "test4 = pd.DataFrame(cross2)\n",
    "test4.columns = [\"x1\", \"x2\",\"x3\",\"x4\",\"x5\",\"x6\", \"Y\"]\n",
    "test44 = test4.drop(columns = ['Y'])\n",
    "array_test4 = test44.to_numpy()\n",
    "Y = np.empty(len(array_test4))\n",
    "for i in range(len(array_test4)):\n",
    "    Y[i] = classify_NN(data4,array_test4[i])"
   ]
  },
  {
   "cell_type": "code",
   "execution_count": 50,
   "metadata": {},
   "outputs": [
    {
     "data": {
      "text/plain": [
       "100.0"
      ]
     },
     "execution_count": 50,
     "metadata": {},
     "output_type": "execute_result"
    }
   ],
   "source": [
    "getAccuracy(test4,Y)"
   ]
  },
  {
   "cell_type": "code",
   "execution_count": 51,
   "metadata": {},
   "outputs": [],
   "source": [
    "test5 = pd.DataFrame(cross1)\n",
    "test5.columns = [\"x1\", \"x2\",\"x3\",\"x4\",\"x5\",\"x6\", \"Y\"]\n",
    "test55 = test5.drop(columns = ['Y'])\n",
    "array_test5 = test55.to_numpy()\n",
    "Y = np.empty(len(array_test5))\n",
    "for i in range(len(array_test5)):\n",
    "    Y[i] = classify_NN(data5,array_test5[i])"
   ]
  },
  {
   "cell_type": "code",
   "execution_count": 52,
   "metadata": {},
   "outputs": [
    {
     "data": {
      "text/plain": [
       "100.0"
      ]
     },
     "execution_count": 52,
     "metadata": {},
     "output_type": "execute_result"
    }
   ],
   "source": [
    "getAccuracy(test5,Y)"
   ]
  },
  {
   "cell_type": "code",
   "execution_count": 163,
   "metadata": {},
   "outputs": [],
   "source": [
    "def Normalize(data):\n",
    "    columns = [\"x1\", \"x2\",'x3','x4','x5','x6']\n",
    "    for i in columns:\n",
    "        data[i] = (data[i]-data[i].mean())/(data[i].std())\n",
    "    return data\n"
   ]
  },
  {
   "cell_type": "code",
   "execution_count": null,
   "metadata": {},
   "outputs": [],
   "source": []
  },
  {
   "cell_type": "code",
   "execution_count": null,
   "metadata": {},
   "outputs": [],
   "source": []
  },
  {
   "cell_type": "code",
   "execution_count": 236,
   "metadata": {},
   "outputs": [],
   "source": [
    "d2b = pd.read_csv(\"D2a.txt\", sep=' ', \n",
    "                  names=[\"x1\", \"x2\",'x3','x4','x5','x6', \"Y\"])\n",
    "d2b_df = pd.DataFrame(d2b)\n",
    "d2b_df = d2b_df.sample(frac=1).reset_index(drop=True)\n",
    "d2b_df = Normalize(d2b_df)\n",
    "d2b = d2b_df.to_numpy()"
   ]
  },
  {
   "cell_type": "code",
   "execution_count": 238,
   "metadata": {},
   "outputs": [
    {
     "data": {
      "text/plain": [
       "<matplotlib.collections.PathCollection at 0x11e989780>"
      ]
     },
     "execution_count": 238,
     "metadata": {},
     "output_type": "execute_result"
    },
    {
     "data": {
      "image/png": "[encoded data removed]",
      "text/plain": [
       "<Figure size 720x360 with 1 Axes>"
      ]
     },
     "metadata": {
      "needs_background": "light"
     },
     "output_type": "display_data"
    }
   ],
   "source": [
    "fig = plt.figure(figsize = ((10,5)))\n",
    "ax1 = fig.add_subplot(111)\n",
    "#ax1.scatter(d_test.x1, d_test.x2, c =d_test.Y, cmap=matplotlib.colors.ListedColormap(colors), s=10, marker=\"s\",label='first')\n",
    "ax1.scatter(d2b_df.x1,d2b_df.x5, c =d2b_df.Y, cmap=matplotlib.colors.ListedColormap(colors), s=10, marker=\"s\", label='second')"
   ]
  },
  {
   "cell_type": "code",
   "execution_count": 222,
   "metadata": {},
   "outputs": [
    {
     "data": {
      "text/html": [
       "<div>\n",
       "<style scoped>\n",
       "    .dataframe tbody tr th:only-of-type {\n",
       "        vertical-align: middle;\n",
       "    }\n",
       "\n",
       "    .dataframe tbody tr th {\n",
       "        vertical-align: top;\n",
       "    }\n",
       "\n",
       "    .dataframe thead th {\n",
       "        text-align: right;\n",
       "    }\n",
       "</style>\n",
       "<table border=\"1\" class=\"dataframe\">\n",
       "  <thead>\n",
       "    <tr style=\"text-align: right;\">\n",
       "      <th></th>\n",
       "      <th>x1</th>\n",
       "      <th>x2</th>\n",
       "      <th>x3</th>\n",
       "      <th>x4</th>\n",
       "      <th>x5</th>\n",
       "      <th>x6</th>\n",
       "      <th>Y</th>\n",
       "    </tr>\n",
       "  </thead>\n",
       "  <tbody>\n",
       "    <tr>\n",
       "      <td>0</td>\n",
       "      <td>-1.138500</td>\n",
       "      <td>0.353942</td>\n",
       "      <td>-0.119871</td>\n",
       "      <td>1.940566</td>\n",
       "      <td>-1.518612</td>\n",
       "      <td>0.185585</td>\n",
       "      <td>1</td>\n",
       "    </tr>\n",
       "    <tr>\n",
       "      <td>1</td>\n",
       "      <td>1.871931</td>\n",
       "      <td>-1.817321</td>\n",
       "      <td>1.502001</td>\n",
       "      <td>-0.422066</td>\n",
       "      <td>1.075742</td>\n",
       "      <td>-1.235742</td>\n",
       "      <td>0</td>\n",
       "    </tr>\n",
       "    <tr>\n",
       "      <td>2</td>\n",
       "      <td>1.360871</td>\n",
       "      <td>-0.757345</td>\n",
       "      <td>-1.113884</td>\n",
       "      <td>0.640202</td>\n",
       "      <td>0.322860</td>\n",
       "      <td>1.070699</td>\n",
       "      <td>1</td>\n",
       "    </tr>\n",
       "    <tr>\n",
       "      <td>3</td>\n",
       "      <td>-1.438440</td>\n",
       "      <td>-0.632230</td>\n",
       "      <td>-0.839222</td>\n",
       "      <td>1.032877</td>\n",
       "      <td>-1.453831</td>\n",
       "      <td>0.546831</td>\n",
       "      <td>1</td>\n",
       "    </tr>\n",
       "    <tr>\n",
       "      <td>4</td>\n",
       "      <td>0.397385</td>\n",
       "      <td>0.758852</td>\n",
       "      <td>0.076736</td>\n",
       "      <td>-0.673691</td>\n",
       "      <td>-0.051564</td>\n",
       "      <td>1.223827</td>\n",
       "      <td>1</td>\n",
       "    </tr>\n",
       "  </tbody>\n",
       "</table>\n",
       "</div>"
      ],
      "text/plain": [
       "         x1        x2        x3        x4        x5        x6  Y\n",
       "0 -1.138500  0.353942 -0.119871  1.940566 -1.518612  0.185585  1\n",
       "1  1.871931 -1.817321  1.502001 -0.422066  1.075742 -1.235742  0\n",
       "2  1.360871 -0.757345 -1.113884  0.640202  0.322860  1.070699  1\n",
       "3 -1.438440 -0.632230 -0.839222  1.032877 -1.453831  0.546831  1\n",
       "4  0.397385  0.758852  0.076736 -0.673691 -0.051564  1.223827  1"
      ]
     },
     "execution_count": 222,
     "metadata": {},
     "output_type": "execute_result"
    }
   ],
   "source": [
    "d2b_df.head()"
   ]
  },
  {
   "cell_type": "code",
   "execution_count": 223,
   "metadata": {},
   "outputs": [
    {
     "data": {
      "text/plain": [
       "200"
      ]
     },
     "execution_count": 223,
     "metadata": {},
     "output_type": "execute_result"
    }
   ],
   "source": [
    "len(d2b)"
   ]
  },
  {
   "cell_type": "code",
   "execution_count": 224,
   "metadata": {},
   "outputs": [],
   "source": [
    "def classify_NN(trainingSet,point):\n",
    "    NN = findNearestNeighbor(trainingSet,point)\n",
    "    return NN[6]"
   ]
  },
  {
   "cell_type": "code",
   "execution_count": 225,
   "metadata": {},
   "outputs": [],
   "source": [
    "cross1 = d2b[0:40]\n",
    "cross2 = d2b[40:80]\n",
    "cross3 = d2b[80:120]\n",
    "cross4 = d2b[120:160]\n",
    "cross5 = d2b[160:200]\n",
    "\n",
    "data1 = np.append(cross1,cross2,axis=0) #leave out cross5\n",
    "data1 = np.append(data1,cross3,axis=0)\n",
    "data1 = np.append(data1,cross4,axis = 0)\n",
    "\n",
    "data2 = np.append(cross1,cross2,axis = 0) #leave out cross 4\n",
    "data2 = np.append(data2, cross3, axis = 0)\n",
    "data2 = np.append(data2,cross5, axis = 0)\n",
    "\n",
    "data3 = np.append(cross1,cross2,axis = 0) #leave out cross 3\n",
    "data3 = np.append(data3,cross4, axis=0)\n",
    "data3 = np.append(data3,cross5,axis =0)\n",
    "\n",
    "data4 = np.append(cross1,cross3, axis=0) #leave out cross 2\n",
    "data4 = np.append(data4, cross4,axis =0)\n",
    "data4 = np.append(data4, cross5, axis=0)\n",
    "\n",
    "data5 = np.append(cross2,cross3,axis=0) #leave out cross 1\n",
    "data5 = np.append(data4, cross4, axis =0)\n",
    "data5 = np.append(data4,cross5,axis=0)"
   ]
  },
  {
   "cell_type": "code",
   "execution_count": 226,
   "metadata": {},
   "outputs": [],
   "source": [
    "test4 = pd.DataFrame(cross2)\n",
    "test4.columns = [\"x1\", \"x2\",'x3','x4','x5','x6', \"Y\"]\n",
    "test44 = test4.drop(columns = ['Y'])\n",
    "array_test4 = test44.to_numpy()\n",
    "Y = np.empty(len(array_test4))\n",
    "for i in range(len(array_test4)):\n",
    "    Y[i] = classify_NN(data4,array_test4[i])"
   ]
  },
  {
   "cell_type": "code",
   "execution_count": 227,
   "metadata": {},
   "outputs": [
    {
     "data": {
      "text/plain": [
       "92.5"
      ]
     },
     "execution_count": 227,
     "metadata": {},
     "output_type": "execute_result"
    }
   ],
   "source": [
    "getAccuracy(test4,Y)"
   ]
  },
  {
   "cell_type": "code",
   "execution_count": 228,
   "metadata": {},
   "outputs": [
    {
     "data": {
      "text/plain": [
       "100.0"
      ]
     },
     "execution_count": 228,
     "metadata": {},
     "output_type": "execute_result"
    }
   ],
   "source": [
    "test5 = pd.DataFrame(cross1)\n",
    "test5.columns = [\"x1\", \"x2\",'x3','x4','x5','x6', \"Y\"]\n",
    "test55 = test5.drop(columns = ['Y'])\n",
    "array_test5 = test55.to_numpy()\n",
    "Y = np.empty(len(array_test5))\n",
    "for i in range(len(array_test5)):\n",
    "    Y[i] = classify_NN(data5,array_test5[i])\n",
    "getAccuracy(test5,Y)"
   ]
  },
  {
   "cell_type": "code",
   "execution_count": 229,
   "metadata": {},
   "outputs": [
    {
     "data": {
      "text/plain": [
       "97.5"
      ]
     },
     "execution_count": 229,
     "metadata": {},
     "output_type": "execute_result"
    }
   ],
   "source": [
    "test3 = pd.DataFrame(cross3)\n",
    "test3.columns = [\"x1\", \"x2\",'x3','x4','x5','x6', \"Y\"]\n",
    "test33 = test3.drop(columns = ['Y'])\n",
    "array_test3 = test33.to_numpy()\n",
    "Y = np.empty(len(array_test3))\n",
    "for i in range(len(array_test3)):\n",
    "    Y[i] = classify_NN(data3,array_test3[i])\n",
    "getAccuracy(test3,Y)"
   ]
  },
  {
   "cell_type": "code",
   "execution_count": 230,
   "metadata": {},
   "outputs": [
    {
     "data": {
      "text/plain": [
       "95.0"
      ]
     },
     "execution_count": 230,
     "metadata": {},
     "output_type": "execute_result"
    }
   ],
   "source": [
    "test2 = pd.DataFrame(cross4)\n",
    "test2.columns = [\"x1\", \"x2\",'x3','x4','x5','x6', \"Y\"]\n",
    "test22 = test2.drop(columns = ['Y'])\n",
    "array_test2 = test22.to_numpy()\n",
    "Y = np.empty(len(array_test2))\n",
    "for i in range(len(array_test2)):\n",
    "    Y[i] = classify_NN(data2,array_test2[i])\n",
    "getAccuracy(test2,Y)"
   ]
  },
  {
   "cell_type": "code",
   "execution_count": 231,
   "metadata": {},
   "outputs": [
    {
     "data": {
      "text/plain": [
       "92.5"
      ]
     },
     "execution_count": 231,
     "metadata": {},
     "output_type": "execute_result"
    }
   ],
   "source": [
    "test1 = pd.DataFrame(cross5)\n",
    "test1.columns = [\"x1\", \"x2\",'x3','x4','x5','x6', \"Y\"]\n",
    "test11 = test1.drop(columns = ['Y'])\n",
    "array_test1 = test11.to_numpy()\n",
    "Y = np.empty(len(array_test1))\n",
    "for i in range(len(array_test1)):\n",
    "    Y[i] = classify_NN(data1,array_test1[i])\n",
    "getAccuracy(test1,Y)"
   ]
  },
  {
   "cell_type": "code",
   "execution_count": null,
   "metadata": {},
   "outputs": [],
   "source": []
  },
  {
   "cell_type": "code",
   "execution_count": null,
   "metadata": {},
   "outputs": [],
   "source": []
  },
  {
   "cell_type": "code",
   "execution_count": null,
   "metadata": {},
   "outputs": [],
   "source": []
  },
  {
   "cell_type": "code",
   "execution_count": null,
   "metadata": {},
   "outputs": [],
   "source": []
  }
 ],
 "metadata": {
  "kernelspec": {
   "display_name": "Python 3",
   "language": "python",
   "name": "python3"
  },
  "language_info": {
   "codemirror_mode": {
    "name": "ipython",
    "version": 3
   },
   "file_extension": ".py",
   "mimetype": "text/x-python",
   "name": "python",
   "nbconvert_exporter": "python",
   "pygments_lexer": "ipython3",
   "version": "3.7.1"
  }
 },
 "nbformat": 4,
 "nbformat_minor": 2
}
