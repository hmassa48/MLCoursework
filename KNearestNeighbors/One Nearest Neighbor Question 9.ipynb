{
 "cells": [
  {
   "cell_type": "code",
   "execution_count": 1,
   "metadata": {},
   "outputs": [],
   "source": [
    "import pandas as pd\n",
    "import numpy as np\n",
    "import math"
   ]
  },
  {
   "cell_type": "code",
   "execution_count": 2,
   "metadata": {},
   "outputs": [],
   "source": [
    "def euclideanDistance(instance1, instance2, length):\n",
    "    distance = 0\n",
    "    for x in range(length):\n",
    "        distance += np.square((instance1[x] - instance2[x]))\n",
    "    return math.sqrt(distance)\n",
    "\n",
    "def findNearestNeighbor(trainingSet,testValue):\n",
    "    distances = []\n",
    "    length = len(testValue)\n",
    "    for x in range(len(trainingSet)):\n",
    "        distance = euclideanDistance(trainingSet[x],testValue,length)\n",
    "        distances.append((trainingSet[x],distance))\n",
    "    distances.sort(key=lambda distances: distances[1])\n",
    "    return distances[0][0]\n",
    "\n",
    "def classify_NN(trainingSet,point):\n",
    "    NN = findNearestNeighbor(trainingSet,point)\n",
    "    return NN[6]\n",
    "\n",
    "def getAccuracy(testSet, predictions):\n",
    "    correct = 0\n",
    "    for x in range(len(testSet)):\n",
    "        if testSet['Y'][x] == predictions[x]:\n",
    "            correct += 1\n",
    "    return correct"
   ]
  },
  {
   "cell_type": "code",
   "execution_count": 3,
   "metadata": {},
   "outputs": [],
   "source": [
    "d2a = pd.read_csv(\"D2a.txt\", sep=' ', \n",
    "                  names=[\"x1\", \"x2\",\"x3\",\"x4\",\"x5\",\"x6\", \"Y\"])\n",
    "d2a_df = pd.DataFrame(d2a)\n",
    "d2a_df = d2a_df.sample(frac=1).reset_index(drop=True)\n",
    "d2a = np.array(d2a).astype(float)\n",
    "d2a = d2a_df.to_numpy()"
   ]
  },
  {
   "cell_type": "code",
   "execution_count": 4,
   "metadata": {},
   "outputs": [],
   "source": [
    "cross = d2a_df.iloc[:40]\n",
    "train = d2a_df.iloc[ 40:]\n",
    "cross = cross.to_numpy()\n",
    "train = train.to_numpy()\n"
   ]
  },
  {
   "cell_type": "code",
   "execution_count": 5,
   "metadata": {},
   "outputs": [],
   "source": [
    "data1 = d2a[41:200]\n",
    "cross1 = d2a[0:40]"
   ]
  },
  {
   "cell_type": "code",
   "execution_count": 6,
   "metadata": {},
   "outputs": [
    {
     "data": {
      "text/plain": [
       "40"
      ]
     },
     "execution_count": 6,
     "metadata": {},
     "output_type": "execute_result"
    }
   ],
   "source": [
    "test1 = pd.DataFrame(cross)\n",
    "test1.columns = [\"x1\", \"x2\",\"x3\",\"x4\",\"x5\",\"x6\", \"Y\"]\n",
    "test11 = test1.drop(columns = ['Y'])\n",
    "array_test1 = test11.to_numpy()\n",
    "Y1 = np.empty(len(array_test1))\n",
    "for i in range(len(array_test1)):\n",
    "    Y1[i] = classify_NN(train,array_test1[i])\n",
    "getAccuracy(test1,Y1)"
   ]
  },
  {
   "cell_type": "code",
   "execution_count": 7,
   "metadata": {},
   "outputs": [
    {
     "ename": "NameError",
     "evalue": "name 'cross2' is not defined",
     "output_type": "error",
     "traceback": [
      "\u001b[0;31m---------------------------------------------------------------------------\u001b[0m",
      "\u001b[0;31mNameError\u001b[0m                                 Traceback (most recent call last)",
      "\u001b[0;32m<ipython-input-7-743351cb6bf5>\u001b[0m in \u001b[0;36m<module>\u001b[0;34m\u001b[0m\n\u001b[0;32m----> 1\u001b[0;31m \u001b[0mtest4\u001b[0m \u001b[0;34m=\u001b[0m \u001b[0mpd\u001b[0m\u001b[0;34m.\u001b[0m\u001b[0mDataFrame\u001b[0m\u001b[0;34m(\u001b[0m\u001b[0mcross2\u001b[0m\u001b[0;34m)\u001b[0m\u001b[0;34m\u001b[0m\u001b[0;34m\u001b[0m\u001b[0m\n\u001b[0m\u001b[1;32m      2\u001b[0m \u001b[0mtest4\u001b[0m\u001b[0;34m.\u001b[0m\u001b[0mcolumns\u001b[0m \u001b[0;34m=\u001b[0m \u001b[0;34m[\u001b[0m\u001b[0;34m\"x1\"\u001b[0m\u001b[0;34m,\u001b[0m \u001b[0;34m\"x2\"\u001b[0m\u001b[0;34m,\u001b[0m\u001b[0;34m\"x3\"\u001b[0m\u001b[0;34m,\u001b[0m\u001b[0;34m\"x4\"\u001b[0m\u001b[0;34m,\u001b[0m\u001b[0;34m\"x5\"\u001b[0m\u001b[0;34m,\u001b[0m\u001b[0;34m\"x6\"\u001b[0m\u001b[0;34m,\u001b[0m \u001b[0;34m\"Y\"\u001b[0m\u001b[0;34m]\u001b[0m\u001b[0;34m\u001b[0m\u001b[0;34m\u001b[0m\u001b[0m\n\u001b[1;32m      3\u001b[0m \u001b[0mtest44\u001b[0m \u001b[0;34m=\u001b[0m \u001b[0mtest4\u001b[0m\u001b[0;34m.\u001b[0m\u001b[0mdrop\u001b[0m\u001b[0;34m(\u001b[0m\u001b[0mcolumns\u001b[0m \u001b[0;34m=\u001b[0m \u001b[0;34m[\u001b[0m\u001b[0;34m'Y'\u001b[0m\u001b[0;34m]\u001b[0m\u001b[0;34m)\u001b[0m\u001b[0;34m\u001b[0m\u001b[0;34m\u001b[0m\u001b[0m\n\u001b[1;32m      4\u001b[0m \u001b[0marray_test4\u001b[0m \u001b[0;34m=\u001b[0m \u001b[0mtest44\u001b[0m\u001b[0;34m.\u001b[0m\u001b[0mto_numpy\u001b[0m\u001b[0;34m(\u001b[0m\u001b[0;34m)\u001b[0m\u001b[0;34m\u001b[0m\u001b[0;34m\u001b[0m\u001b[0m\n\u001b[1;32m      5\u001b[0m \u001b[0mY4\u001b[0m \u001b[0;34m=\u001b[0m \u001b[0mnp\u001b[0m\u001b[0;34m.\u001b[0m\u001b[0mempty\u001b[0m\u001b[0;34m(\u001b[0m\u001b[0mlen\u001b[0m\u001b[0;34m(\u001b[0m\u001b[0marray_test4\u001b[0m\u001b[0;34m)\u001b[0m\u001b[0;34m)\u001b[0m\u001b[0;34m\u001b[0m\u001b[0;34m\u001b[0m\u001b[0m\n",
      "\u001b[0;31mNameError\u001b[0m: name 'cross2' is not defined"
     ]
    }
   ],
   "source": [
    "test4 = pd.DataFrame(cross2)\n",
    "test4.columns = [\"x1\", \"x2\",\"x3\",\"x4\",\"x5\",\"x6\", \"Y\"]\n",
    "test44 = test4.drop(columns = ['Y'])\n",
    "array_test4 = test44.to_numpy()\n",
    "Y4 = np.empty(len(array_test4))\n",
    "for i in range(len(array_test4)):\n",
    "    Y4[i] = classify_NN(data4,array_test4[i])\n",
    "getAccuracy(test4,Y4)"
   ]
  },
  {
   "cell_type": "code",
   "execution_count": null,
   "metadata": {},
   "outputs": [],
   "source": [
    "correct = 0\n",
    "test5 = pd.DataFrame(cross1)\n",
    "test5.columns = [\"x1\", \"x2\",\"x3\",\"x4\",\"x5\",\"x6\", \"Y\"]\n",
    "test55 = test5.drop(columns = ['Y'])\n",
    "array_test5 = test55.to_numpy()\n",
    "Y5 = np.empty(len(array_test5))\n",
    "for i in range(len(array_test5)):\n",
    "    Y5[i] = classify_NN(data5,array_test5[i])\n",
    "    if Y5[i] == test5[\"Y\"][i]:\n",
    "        correct = correct+1\n",
    "correct/40\n"
   ]
  },
  {
   "cell_type": "code",
   "execution_count": null,
   "metadata": {},
   "outputs": [],
   "source": [
    "Y5"
   ]
  },
  {
   "cell_type": "code",
   "execution_count": null,
   "metadata": {},
   "outputs": [],
   "source": [
    "test5['Y']"
   ]
  },
  {
   "cell_type": "code",
   "execution_count": null,
   "metadata": {},
   "outputs": [],
   "source": [
    "for i in range(len(cross5)):\n",
    "    print(findNearestNeighbor(data1,cross5))"
   ]
  },
  {
   "cell_type": "code",
   "execution_count": null,
   "metadata": {},
   "outputs": [],
   "source": []
  },
  {
   "cell_type": "code",
   "execution_count": null,
   "metadata": {},
   "outputs": [],
   "source": []
  },
  {
   "cell_type": "code",
   "execution_count": null,
   "metadata": {},
   "outputs": [],
   "source": []
  }
 ],
 "metadata": {
  "kernelspec": {
   "display_name": "Python 3",
   "language": "python",
   "name": "python3"
  },
  "language_info": {
   "codemirror_mode": {
    "name": "ipython",
    "version": 3
   },
   "file_extension": ".py",
   "mimetype": "text/x-python",
   "name": "python",
   "nbconvert_exporter": "python",
   "pygments_lexer": "ipython3",
   "version": "3.7.6"
  }
 },
 "nbformat": 4,
 "nbformat_minor": 2
}
